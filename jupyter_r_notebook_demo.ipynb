{
 "cells": [
  {
   "cell_type": "markdown",
   "metadata": {},
   "source": [
    "# Jupyter R Notebook Demo\n",
    "\n",
    "The notebook like an Rmd file, allows us to blend text, code and code outputs."
   ]
  },
  {
   "cell_type": "markdown",
   "metadata": {},
   "source": [
    "## Using Markdown\n",
    "\n",
    "Just as in Rmd, we can write nicely styled text from vanilla markdown:\n",
    "\n",
    "- yet\n",
    "- another\n",
    "- *styled* __list__"
   ]
  },
  {
   "cell_type": "markdown",
   "metadata": {},
   "source": [
    "We can write `inline code` or language sensitively code styled blocks:\n",
    "\n",
    "```R\n",
    "# ggplot2 examples\n",
    "library(ggplot2)\n",
    "\n",
    "# create factors with value labels \n",
    "mtcars$gear <- factor(mtcars$gear,levels=c(3,4,5),\n",
    "   labels=c(\"3gears\",\"4gears\",\"5gears\")) \n",
    "```\n",
    "\n",
    "\n",
    "We can write inline equations using latex — $e=mc^2$ as well as across multiple lines:\n",
    "\n",
    "\\begin{align}\n",
    "\\dot{x} & = \\sigma(y-x) \\\\\n",
    "\\dot{y} & = \\rho x - y - xz \\\\\n",
    "\\dot{z} & = -\\beta z + xy\n",
    "\\end{align}"
   ]
  },
  {
   "cell_type": "markdown",
   "metadata": {},
   "source": [
    "## Using Code\n",
    "\n",
    "Code is entered and executed via code cells. The execution environment is determined by the notebook *kernel* attached to the notebook.\n",
    "\n",
    "This notebook has been associated with an R kernel. Which means we can write R code in the cells:"
   ]
  },
  {
   "cell_type": "code",
   "execution_count": null,
   "metadata": {},
   "outputs": [],
   "source": [
    "# ggplot2 examples\n",
    "library(ggplot2)"
   ]
  },
  {
   "cell_type": "markdown",
   "metadata": {},
   "source": [
    "As in Rmd documents, the state set or packages loaded by executing code in one cell is available to later executed cells.\n",
    "\n",
    "So we can access one of the `ggplot2` loaded datasets:"
   ]
  },
  {
   "cell_type": "code",
   "execution_count": null,
   "metadata": {},
   "outputs": [],
   "source": [
    "# create factors with value labels \n",
    "mtcars$gear <- factor(mtcars$gear,levels=c(3,4,5),\n",
    "   labels=c(\"3gears\",\"4gears\",\"5gears\")) \n",
    "mtcars$am <- factor(mtcars$am,levels=c(0,1),\n",
    "   labels=c(\"Automatic\",\"Manual\")) \n",
    "mtcars$cyl <- factor(mtcars$cyl,levels=c(4,6,8),\n",
    "   labels=c(\"4cyl\",\"6cyl\",\"8cyl\")) "
   ]
  },
  {
   "cell_type": "markdown",
   "metadata": {},
   "source": [
    "As with Rmd, if the last line of a code cell returns an object, we can display it. This includes things like charts:"
   ]
  },
  {
   "cell_type": "code",
   "execution_count": null,
   "metadata": {},
   "outputs": [],
   "source": [
    "# Kernel density plots for mpg\n",
    "# grouped by number of gears (indicated by color)\n",
    "g = qplot(mpg, data=mtcars, geom=\"density\", fill=gear, alpha=I(.5), \n",
    "   main=\"Distribution of Gas Mileage\", xlab=\"Miles Per Gallon\", \n",
    "   ylab=\"Density\")\n",
    "g"
   ]
  },
  {
   "cell_type": "markdown",
   "metadata": {},
   "source": [
    "As in any other R environment, we can change the aesthetics through the application of a particular theme.\n",
    "\n",
    "For example, the `theme_commonslib()` theme is a theme used by the House of Commons Library; we can install it from it's Github repository:"
   ]
  },
  {
   "cell_type": "code",
   "execution_count": null,
   "metadata": {},
   "outputs": [],
   "source": [
    "install.packages(\"remotes\")\n",
    "remotes::install_github(\"olihawkins/clplot\")"
   ]
  },
  {
   "cell_type": "markdown",
   "metadata": {},
   "source": [
    "And then simply add the theme to the chart:"
   ]
  },
  {
   "cell_type": "code",
   "execution_count": null,
   "metadata": {},
   "outputs": [],
   "source": [
    "library(ggplot2)\n",
    "library(clplot)\n",
    "\n",
    "g + theme_commonslib()"
   ]
  },
  {
   "cell_type": "markdown",
   "metadata": {},
   "source": [
    "It's some time since I looked properly at how we could embed interactive elements in a notebook.\n",
    "\n",
    "For example, it's easy enough to generate a widget:"
   ]
  },
  {
   "cell_type": "code",
   "execution_count": null,
   "metadata": {},
   "outputs": [],
   "source": [
    "#install.packages(\"leaflet\")\n",
    "library(leaflet)\n",
    "\n",
    "m <- leaflet() %>%\n",
    "  addTiles() %>%  # Add default OpenStreetMap map tiles\n",
    "  addMarkers(lng=174.768, lat=-36.852, popup=\"The birthplace of R\")"
   ]
  },
  {
   "cell_type": "markdown",
   "metadata": {},
   "source": [
    "But I'm not sure if we can directly embed the result yet?\n",
    "\n",
    "This is one of my old workarounds: save the widget HTML to a file and then load it back in via an IFrame..."
   ]
  },
  {
   "cell_type": "code",
   "execution_count": null,
   "metadata": {},
   "outputs": [],
   "source": [
    "library(htmlwidgets)\n",
    "library(IRdisplay)\n",
    "\n",
    "saveWidget(m, 'demo.html', selfcontained = TRUE)\n",
    "display_html('<iframe src=\"demo.html\" width=\"100%\" height=600></iframe>')"
   ]
  },
  {
   "cell_type": "markdown",
   "metadata": {},
   "source": [
    "We can generate nicely styled tables with a bit of help..."
   ]
  },
  {
   "cell_type": "code",
   "execution_count": null,
   "metadata": {},
   "outputs": [],
   "source": [
    "install.packages(\"kableExtra\")"
   ]
  },
  {
   "cell_type": "markdown",
   "metadata": {},
   "source": [
    "Generate an HTML table and display it as such, via a slight hack..."
   ]
  },
  {
   "cell_type": "code",
   "execution_count": null,
   "metadata": {},
   "outputs": [],
   "source": [
    "library(knitr)\n",
    "library(kableExtra)\n",
    "\n",
    "kable(summary(cars)) %>%\n",
    "  kable_styling(bootstrap_options = c(\"striped\", \"hover\")) %>%\n",
    "    as.character() %>% display_html()"
   ]
  },
  {
   "cell_type": "markdown",
   "metadata": {},
   "source": [
    "## Loading Data From APIs\n",
    "\n",
    "This example is cribbed in part from https://medium.com/@traffordDataLab/querying-apis-in-r-39029b73d5f1 and uses the UK Police API, which returns JSON data of the form: https://data.police.uk/api/crimes-street/burglary?lat=52.0406&lng=-0.7594&date=2018-05"
   ]
  },
  {
   "cell_type": "code",
   "execution_count": 29,
   "metadata": {},
   "outputs": [
    {
     "name": "stderr",
     "output_type": "stream",
     "text": [
      "── \u001b[1mAttaching packages\u001b[22m ─────────────────────────────────────── tidyverse 1.2.1 ──\n",
      "\n",
      "\u001b[32m✔\u001b[39m \u001b[34mtibble \u001b[39m 2.1.1       \u001b[32m✔\u001b[39m \u001b[34mpurrr  \u001b[39m 0.3.2  \n",
      "\u001b[32m✔\u001b[39m \u001b[34mtidyr  \u001b[39m 0.8.3       \u001b[32m✔\u001b[39m \u001b[34mdplyr  \u001b[39m 0.8.0.\u001b[31m1\u001b[39m\n",
      "\u001b[32m✔\u001b[39m \u001b[34mreadr  \u001b[39m 1.3.1       \u001b[32m✔\u001b[39m \u001b[34mstringr\u001b[39m 1.4.0  \n",
      "\u001b[32m✔\u001b[39m \u001b[34mtibble \u001b[39m 2.1.1       \u001b[32m✔\u001b[39m \u001b[34mforcats\u001b[39m 0.4.0  \n",
      "\n",
      "── \u001b[1mConflicts\u001b[22m ────────────────────────────────────────── tidyverse_conflicts() ──\n",
      "\u001b[31m✖\u001b[39m \u001b[34mdplyr\u001b[39m::\u001b[32mfilter()\u001b[39m     masks \u001b[34mstats\u001b[39m::filter()\n",
      "\u001b[31m✖\u001b[39m \u001b[34mdplyr\u001b[39m::\u001b[32mgroup_rows()\u001b[39m masks \u001b[34mkableExtra\u001b[39m::group_rows()\n",
      "\u001b[31m✖\u001b[39m \u001b[34mdplyr\u001b[39m::\u001b[32mlag()\u001b[39m        masks \u001b[34mstats\u001b[39m::lag()\n",
      "\n",
      "\n",
      "Attaching package: ‘jsonlite’\n",
      "\n",
      "\n",
      "The following object is masked from ‘package:purrr’:\n",
      "\n",
      "    flatten\n",
      "\n",
      "\n"
     ]
    }
   ],
   "source": [
    "library(tidyverse)\n",
    "library(httr)\n",
    "library(jsonlite)"
   ]
  },
  {
   "cell_type": "markdown",
   "metadata": {},
   "source": [
    "We can make a query onto the API and get a JSON file back:"
   ]
  },
  {
   "cell_type": "code",
   "execution_count": 66,
   "metadata": {},
   "outputs": [],
   "source": [
    "path <- \"https://data.police.uk/api/crimes-street/burglary?\"\n",
    "\n",
    "request <- GET(url = path, \n",
    "               query = list(\n",
    "                 lat = 52.0406,\n",
    "                 lng = -0.7594,\n",
    "                 date = \"2018-05\")\n",
    "               )"
   ]
  },
  {
   "cell_type": "markdown",
   "metadata": {},
   "source": [
    "Decoding the JSON returns everything as chars...:"
   ]
  },
  {
   "cell_type": "code",
   "execution_count": 67,
   "metadata": {},
   "outputs": [
    {
     "data": {
      "text/html": [
       "<table>\n",
       "<caption>A data.frame: 6 × 13</caption>\n",
       "<thead>\n",
       "\t<tr><th></th><th scope=col>category</th><th scope=col>location_type</th><th scope=col>context</th><th scope=col>persistent_id</th><th scope=col>id</th><th scope=col>location_subtype</th><th scope=col>month</th><th scope=col>location.latitude</th><th scope=col>location.longitude</th><th scope=col>location.street.id</th><th scope=col>location.street.name</th><th scope=col>outcome_status.category</th><th scope=col>outcome_status.date</th></tr>\n",
       "\t<tr><th></th><th scope=col>&lt;chr&gt;</th><th scope=col>&lt;chr&gt;</th><th scope=col>&lt;chr&gt;</th><th scope=col>&lt;chr&gt;</th><th scope=col>&lt;int&gt;</th><th scope=col>&lt;chr&gt;</th><th scope=col>&lt;chr&gt;</th><th scope=col>&lt;chr&gt;</th><th scope=col>&lt;chr&gt;</th><th scope=col>&lt;int&gt;</th><th scope=col>&lt;chr&gt;</th><th scope=col>&lt;chr&gt;</th><th scope=col>&lt;chr&gt;</th></tr>\n",
       "</thead>\n",
       "<tbody>\n",
       "\t<tr><th scope=row>1</th><td>burglary</td><td>Force</td><td></td><td>fa6b515b3d9658626797bb6db06caefcab8d05e4ac387914c12d3077368b402d</td><td>65373360</td><td></td><td>2018-05</td><td>52.052319</td><td>-0.756575</td><td>1213725</td><td>On or near Bryony Place      </td><td>Investigation complete; no suspect identified</td><td>2018-08</td></tr>\n",
       "\t<tr><th scope=row>2</th><td>burglary</td><td>Force</td><td></td><td>7480cb4911243cc2f48669e71fa2fb7320f2197b6ccb6390be06281c898b5074</td><td>65379707</td><td></td><td>2018-05</td><td>52.044662</td><td>-0.767213</td><td>1213735</td><td>On or near Wandsworth Place  </td><td>Investigation complete; no suspect identified</td><td>2018-08</td></tr>\n",
       "\t<tr><th scope=row>3</th><td>burglary</td><td>Force</td><td></td><td>6ffc8736dc157b33cf0d9f8d3a858ad1d4d41fc92331e34145be0ef465cf8eab</td><td>65382710</td><td></td><td>2018-05</td><td>52.033215</td><td>-0.746623</td><td>1213362</td><td>On or near Trevone Court     </td><td>Unable to prosecute suspect                  </td><td>2018-08</td></tr>\n",
       "\t<tr><th scope=row>4</th><td>burglary</td><td>Force</td><td></td><td>133441a73f4690a1d4e1873b7696fdd0240b1c330cc84337bf6243435d41159d</td><td>65370281</td><td></td><td>2018-05</td><td>52.027977</td><td>-0.760603</td><td>1212564</td><td>On or near Rashleigh Place   </td><td>Investigation complete; no suspect identified</td><td>2018-08</td></tr>\n",
       "\t<tr><th scope=row>5</th><td>burglary</td><td>Force</td><td></td><td>1e38aec62bd62383218f27bbbe41567c28d39900a5bb965e00b0a4e5e6db4844</td><td>65371736</td><td></td><td>2018-05</td><td>52.044649</td><td>-0.758304</td><td>1213743</td><td>On or near North Tenth Street</td><td>Unable to prosecute suspect                  </td><td>2018-08</td></tr>\n",
       "\t<tr><th scope=row>6</th><td>burglary</td><td>Force</td><td></td><td>04c25368c11760f02c45b701d21e1583fba2e31bb53ad4e1aa4c9dd55ba5c412</td><td>65377770</td><td></td><td>2018-05</td><td>52.030466</td><td>-0.743479</td><td>1213353</td><td>On or near Ashby             </td><td>Investigation complete; no suspect identified</td><td>2018-05</td></tr>\n",
       "</tbody>\n",
       "</table>\n"
      ],
      "text/latex": [
       "A data.frame: 6 × 13\n",
       "\\begin{tabular}{r|lllllllllllll}\n",
       "  & category & location\\_type & context & persistent\\_id & id & location\\_subtype & month & location.latitude & location.longitude & location.street.id & location.street.name & outcome\\_status.category & outcome\\_status.date\\\\\n",
       "  & <chr> & <chr> & <chr> & <chr> & <int> & <chr> & <chr> & <chr> & <chr> & <int> & <chr> & <chr> & <chr>\\\\\n",
       "\\hline\n",
       "\t1 & burglary & Force &  & fa6b515b3d9658626797bb6db06caefcab8d05e4ac387914c12d3077368b402d & 65373360 &  & 2018-05 & 52.052319 & -0.756575 & 1213725 & On or near Bryony Place       & Investigation complete; no suspect identified & 2018-08\\\\\n",
       "\t2 & burglary & Force &  & 7480cb4911243cc2f48669e71fa2fb7320f2197b6ccb6390be06281c898b5074 & 65379707 &  & 2018-05 & 52.044662 & -0.767213 & 1213735 & On or near Wandsworth Place   & Investigation complete; no suspect identified & 2018-08\\\\\n",
       "\t3 & burglary & Force &  & 6ffc8736dc157b33cf0d9f8d3a858ad1d4d41fc92331e34145be0ef465cf8eab & 65382710 &  & 2018-05 & 52.033215 & -0.746623 & 1213362 & On or near Trevone Court      & Unable to prosecute suspect                   & 2018-08\\\\\n",
       "\t4 & burglary & Force &  & 133441a73f4690a1d4e1873b7696fdd0240b1c330cc84337bf6243435d41159d & 65370281 &  & 2018-05 & 52.027977 & -0.760603 & 1212564 & On or near Rashleigh Place    & Investigation complete; no suspect identified & 2018-08\\\\\n",
       "\t5 & burglary & Force &  & 1e38aec62bd62383218f27bbbe41567c28d39900a5bb965e00b0a4e5e6db4844 & 65371736 &  & 2018-05 & 52.044649 & -0.758304 & 1213743 & On or near North Tenth Street & Unable to prosecute suspect                   & 2018-08\\\\\n",
       "\t6 & burglary & Force &  & 04c25368c11760f02c45b701d21e1583fba2e31bb53ad4e1aa4c9dd55ba5c412 & 65377770 &  & 2018-05 & 52.030466 & -0.743479 & 1213353 & On or near Ashby              & Investigation complete; no suspect identified & 2018-05\\\\\n",
       "\\end{tabular}\n"
      ],
      "text/markdown": [
       "\n",
       "A data.frame: 6 × 13\n",
       "\n",
       "| <!--/--> | category &lt;chr&gt; | location_type &lt;chr&gt; | context &lt;chr&gt; | persistent_id &lt;chr&gt; | id &lt;int&gt; | location_subtype &lt;chr&gt; | month &lt;chr&gt; | location.latitude &lt;chr&gt; | location.longitude &lt;chr&gt; | location.street.id &lt;int&gt; | location.street.name &lt;chr&gt; | outcome_status.category &lt;chr&gt; | outcome_status.date &lt;chr&gt; |\n",
       "|---|---|---|---|---|---|---|---|---|---|---|---|---|---|\n",
       "| 1 | burglary | Force | <!----> | fa6b515b3d9658626797bb6db06caefcab8d05e4ac387914c12d3077368b402d | 65373360 | <!----> | 2018-05 | 52.052319 | -0.756575 | 1213725 | On or near Bryony Place       | Investigation complete; no suspect identified | 2018-08 |\n",
       "| 2 | burglary | Force | <!----> | 7480cb4911243cc2f48669e71fa2fb7320f2197b6ccb6390be06281c898b5074 | 65379707 | <!----> | 2018-05 | 52.044662 | -0.767213 | 1213735 | On or near Wandsworth Place   | Investigation complete; no suspect identified | 2018-08 |\n",
       "| 3 | burglary | Force | <!----> | 6ffc8736dc157b33cf0d9f8d3a858ad1d4d41fc92331e34145be0ef465cf8eab | 65382710 | <!----> | 2018-05 | 52.033215 | -0.746623 | 1213362 | On or near Trevone Court      | Unable to prosecute suspect                   | 2018-08 |\n",
       "| 4 | burglary | Force | <!----> | 133441a73f4690a1d4e1873b7696fdd0240b1c330cc84337bf6243435d41159d | 65370281 | <!----> | 2018-05 | 52.027977 | -0.760603 | 1212564 | On or near Rashleigh Place    | Investigation complete; no suspect identified | 2018-08 |\n",
       "| 5 | burglary | Force | <!----> | 1e38aec62bd62383218f27bbbe41567c28d39900a5bb965e00b0a4e5e6db4844 | 65371736 | <!----> | 2018-05 | 52.044649 | -0.758304 | 1213743 | On or near North Tenth Street | Unable to prosecute suspect                   | 2018-08 |\n",
       "| 6 | burglary | Force | <!----> | 04c25368c11760f02c45b701d21e1583fba2e31bb53ad4e1aa4c9dd55ba5c412 | 65377770 | <!----> | 2018-05 | 52.030466 | -0.743479 | 1213353 | On or near Ashby              | Investigation complete; no suspect identified | 2018-05 |\n",
       "\n"
      ],
      "text/plain": [
       "  category location_type context\n",
       "1 burglary Force                \n",
       "2 burglary Force                \n",
       "3 burglary Force                \n",
       "4 burglary Force                \n",
       "5 burglary Force                \n",
       "6 burglary Force                \n",
       "  persistent_id                                                    id      \n",
       "1 fa6b515b3d9658626797bb6db06caefcab8d05e4ac387914c12d3077368b402d 65373360\n",
       "2 7480cb4911243cc2f48669e71fa2fb7320f2197b6ccb6390be06281c898b5074 65379707\n",
       "3 6ffc8736dc157b33cf0d9f8d3a858ad1d4d41fc92331e34145be0ef465cf8eab 65382710\n",
       "4 133441a73f4690a1d4e1873b7696fdd0240b1c330cc84337bf6243435d41159d 65370281\n",
       "5 1e38aec62bd62383218f27bbbe41567c28d39900a5bb965e00b0a4e5e6db4844 65371736\n",
       "6 04c25368c11760f02c45b701d21e1583fba2e31bb53ad4e1aa4c9dd55ba5c412 65377770\n",
       "  location_subtype month   location.latitude location.longitude\n",
       "1                  2018-05 52.052319         -0.756575         \n",
       "2                  2018-05 52.044662         -0.767213         \n",
       "3                  2018-05 52.033215         -0.746623         \n",
       "4                  2018-05 52.027977         -0.760603         \n",
       "5                  2018-05 52.044649         -0.758304         \n",
       "6                  2018-05 52.030466         -0.743479         \n",
       "  location.street.id location.street.name         \n",
       "1 1213725            On or near Bryony Place      \n",
       "2 1213735            On or near Wandsworth Place  \n",
       "3 1213362            On or near Trevone Court     \n",
       "4 1212564            On or near Rashleigh Place   \n",
       "5 1213743            On or near North Tenth Street\n",
       "6 1213353            On or near Ashby             \n",
       "  outcome_status.category                       outcome_status.date\n",
       "1 Investigation complete; no suspect identified 2018-08            \n",
       "2 Investigation complete; no suspect identified 2018-08            \n",
       "3 Unable to prosecute suspect                   2018-08            \n",
       "4 Investigation complete; no suspect identified 2018-08            \n",
       "5 Unable to prosecute suspect                   2018-08            \n",
       "6 Investigation complete; no suspect identified 2018-05            "
      ]
     },
     "metadata": {},
     "output_type": "display_data"
    }
   ],
   "source": [
    "response <- content(request, as = \"text\", encoding = \"UTF-8\")\n",
    "df <- fromJSON(response, flatten = TRUE) %>% \n",
    "  data.frame()\n",
    "\n",
    "head(df)"
   ]
  },
  {
   "cell_type": "markdown",
   "metadata": {},
   "source": [
    "So I'm going to be lazy in how I cast the lat/long to a numeric and use a package to help:"
   ]
  },
  {
   "cell_type": "code",
   "execution_count": 68,
   "metadata": {},
   "outputs": [],
   "source": [
    "#install.packages(\"hablar\")\n",
    "library(hablar)"
   ]
  },
  {
   "cell_type": "markdown",
   "metadata": {},
   "source": [
    "The cast is then just a `convert()` pipeline step:"
   ]
  },
  {
   "cell_type": "code",
   "execution_count": 69,
   "metadata": {},
   "outputs": [
    {
     "data": {
      "text/html": [
       "<table>\n",
       "<caption>A tibble: 6 × 5</caption>\n",
       "<thead>\n",
       "\t<tr><th scope=col>month</th><th scope=col>category</th><th scope=col>location</th><th scope=col>long</th><th scope=col>lat</th></tr>\n",
       "\t<tr><th scope=col>&lt;chr&gt;</th><th scope=col>&lt;chr&gt;</th><th scope=col>&lt;chr&gt;</th><th scope=col>&lt;dbl&gt;</th><th scope=col>&lt;dbl&gt;</th></tr>\n",
       "</thead>\n",
       "<tbody>\n",
       "\t<tr><td>2018-05</td><td>burglary</td><td>On or near Bryony Place      </td><td>-0.756575</td><td>52.05232</td></tr>\n",
       "\t<tr><td>2018-05</td><td>burglary</td><td>On or near Wandsworth Place  </td><td>-0.767213</td><td>52.04466</td></tr>\n",
       "\t<tr><td>2018-05</td><td>burglary</td><td>On or near Trevone Court     </td><td>-0.746623</td><td>52.03321</td></tr>\n",
       "\t<tr><td>2018-05</td><td>burglary</td><td>On or near Rashleigh Place   </td><td>-0.760603</td><td>52.02798</td></tr>\n",
       "\t<tr><td>2018-05</td><td>burglary</td><td>On or near North Tenth Street</td><td>-0.758304</td><td>52.04465</td></tr>\n",
       "\t<tr><td>2018-05</td><td>burglary</td><td>On or near Ashby             </td><td>-0.743479</td><td>52.03047</td></tr>\n",
       "</tbody>\n",
       "</table>\n"
      ],
      "text/latex": [
       "A tibble: 6 × 5\n",
       "\\begin{tabular}{lllll}\n",
       " month & category & location & long & lat\\\\\n",
       " <chr> & <chr> & <chr> & <dbl> & <dbl>\\\\\n",
       "\\hline\n",
       "\t 2018-05 & burglary & On or near Bryony Place       & -0.756575 & 52.05232\\\\\n",
       "\t 2018-05 & burglary & On or near Wandsworth Place   & -0.767213 & 52.04466\\\\\n",
       "\t 2018-05 & burglary & On or near Trevone Court      & -0.746623 & 52.03321\\\\\n",
       "\t 2018-05 & burglary & On or near Rashleigh Place    & -0.760603 & 52.02798\\\\\n",
       "\t 2018-05 & burglary & On or near North Tenth Street & -0.758304 & 52.04465\\\\\n",
       "\t 2018-05 & burglary & On or near Ashby              & -0.743479 & 52.03047\\\\\n",
       "\\end{tabular}\n"
      ],
      "text/markdown": [
       "\n",
       "A tibble: 6 × 5\n",
       "\n",
       "| month &lt;chr&gt; | category &lt;chr&gt; | location &lt;chr&gt; | long &lt;dbl&gt; | lat &lt;dbl&gt; |\n",
       "|---|---|---|---|---|\n",
       "| 2018-05 | burglary | On or near Bryony Place       | -0.756575 | 52.05232 |\n",
       "| 2018-05 | burglary | On or near Wandsworth Place   | -0.767213 | 52.04466 |\n",
       "| 2018-05 | burglary | On or near Trevone Court      | -0.746623 | 52.03321 |\n",
       "| 2018-05 | burglary | On or near Rashleigh Place    | -0.760603 | 52.02798 |\n",
       "| 2018-05 | burglary | On or near North Tenth Street | -0.758304 | 52.04465 |\n",
       "| 2018-05 | burglary | On or near Ashby              | -0.743479 | 52.03047 |\n",
       "\n"
      ],
      "text/plain": [
       "  month   category location                      long      lat     \n",
       "1 2018-05 burglary On or near Bryony Place       -0.756575 52.05232\n",
       "2 2018-05 burglary On or near Wandsworth Place   -0.767213 52.04466\n",
       "3 2018-05 burglary On or near Trevone Court      -0.746623 52.03321\n",
       "4 2018-05 burglary On or near Rashleigh Place    -0.760603 52.02798\n",
       "5 2018-05 burglary On or near North Tenth Street -0.758304 52.04465\n",
       "6 2018-05 burglary On or near Ashby              -0.743479 52.03047"
      ]
     },
     "metadata": {},
     "output_type": "display_data"
    }
   ],
   "source": [
    "df <- select(df,\n",
    "             month, category, \n",
    "             location = location.street.name,\n",
    "             long = location.longitude,\n",
    "             lat = location.latitude) %>%\n",
    "      convert(num(long, lat))\n",
    "\n",
    "head(df)"
   ]
  },
  {
   "cell_type": "code",
   "execution_count": 70,
   "metadata": {},
   "outputs": [
    {
     "name": "stderr",
     "output_type": "stream",
     "text": [
      "Assuming \"long\" and \"lat\" are longitude and latitude, respectively\n",
      "\n"
     ]
    },
    {
     "data": {
      "text/html": [
       "<iframe src=\"demo.html\" width=\"100%\" height=600></iframe>"
      ]
     },
     "metadata": {},
     "output_type": "display_data"
    }
   ],
   "source": [
    "m  = leaflet(df) %>% addTiles() %>% addMarkers(\n",
    "  clusterOptions = markerClusterOptions(), popup = ~as.character(location)\n",
    ")\n",
    "\n",
    "saveWidget(m, 'demo.html', selfcontained = TRUE)\n",
    "display_html('<iframe src=\"demo.html\" width=\"100%\" height=600></iframe>')"
   ]
  },
  {
   "cell_type": "code",
   "execution_count": null,
   "metadata": {},
   "outputs": [],
   "source": []
  }
 ],
 "metadata": {
  "kernelspec": {
   "display_name": "R",
   "language": "R",
   "name": "ir"
  },
  "language_info": {
   "codemirror_mode": "r",
   "file_extension": ".r",
   "mimetype": "text/x-r-source",
   "name": "R",
   "pygments_lexer": "r",
   "version": "3.6.3"
  }
 },
 "nbformat": 4,
 "nbformat_minor": 2
}
